{
 "cells": [
  {
   "cell_type": "code",
   "execution_count": 2,
   "id": "61009e52",
   "metadata": {},
   "outputs": [],
   "source": [
    "from check import Checker"
   ]
  },
  {
   "cell_type": "markdown",
   "id": "fe0b06fa",
   "metadata": {},
   "source": [
    "# Question 1\n",
    "Given an array nums. We define a running sum of an array as runningSum[i] = sum(nums[0]…nums[i]).\n",
    "\n",
    "Return the running sum of nums.\n",
    "\n",
    "**Example 1:**\n",
    "\n",
    "```\n",
    "Input: nums = [1,2,3,4]\n",
    "Output: [1,3,6,10]\n",
    "Explanation: Running sum is obtained as follows: [1, 1+2, 1+2+3, 1+2+3+4].\n",
    "```\n",
    "**Example 2:**\n",
    "```\n",
    "Input: nums = [1,1,1,1,1]\n",
    "Output: [1,2,3,4,5]\n",
    "Explanation: Running sum is obtained as follows: [1, 1+1, 1+1+1, 1+1+1+1, 1+1+1+1+1].\n",
    "```"
   ]
  },
  {
   "cell_type": "code",
   "execution_count": 5,
   "id": "1d0ef69d",
   "metadata": {},
   "outputs": [],
   "source": [
    "def addValues(a):\n",
    "    # Please Enter your code here    \n",
    "    return a*2"
   ]
  },
  {
   "cell_type": "code",
   "execution_count": 6,
   "id": "6a9ac41b",
   "metadata": {},
   "outputs": [
    {
     "data": {
      "text/plain": [
       "True"
      ]
     },
     "execution_count": 6,
     "metadata": {},
     "output_type": "execute_result"
    }
   ],
   "source": [
    "Checker.checkQuestion1(addValues)"
   ]
  },
  {
   "cell_type": "markdown",
   "id": "9d4ef473",
   "metadata": {},
   "source": [
    "# Question 2\n",
    "\n",
    "The Fibonacci numbers, commonly denoted F(n) form a sequence, called the Fibonacci sequence, such that each number is the sum of the two preceding ones, starting from 0 and 1. That is,\n",
    "\n",
    "```\n",
    "F(0) = 0, F(1) = 1\n",
    "F(n) = F(n - 1) + F(n - 2), for n > 1.\n",
    "```\n",
    "\n",
    "Given n, calculate F(n).\n",
    "**Example 1:**\n",
    "```\n",
    "Input: n = 2\n",
    "Output: 1\n",
    "Explanation: F(2) = F(1) + F(0) = 1 + 0 = 1.\n",
    "```\n",
    "**Example 2:**\n",
    "```\n",
    "Input: n = 3\n",
    "Output: 2\n",
    "Explanation: F(3) = F(2) + F(1) = 1 + 1 = 2.\n",
    "```\n",
    "**Example 3:**\n",
    "```\n",
    "Input: n = 4\n",
    "Output: 3\n",
    "Explanation: F(4) = F(3) + F(2) = 2 + 1 = 3.\n",
    "```\n",
    "**Constraints:**\n",
    "0 <= n <= 30"
   ]
  },
  {
   "cell_type": "code",
   "execution_count": null,
   "id": "09829f2d",
   "metadata": {},
   "outputs": [],
   "source": [
    "def fiboSolution(a):\n",
    "    # Please Enter your code here    \n",
    "    return a*2"
   ]
  },
  {
   "cell_type": "code",
   "execution_count": null,
   "id": "59ea62ec",
   "metadata": {},
   "outputs": [],
   "source": [
    "Checker.checkQuestion2(addValues)"
   ]
  }
 ],
 "metadata": {
  "kernelspec": {
   "display_name": "Python 3 (ipykernel)",
   "language": "python",
   "name": "python3"
  },
  "language_info": {
   "codemirror_mode": {
    "name": "ipython",
    "version": 3
   },
   "file_extension": ".py",
   "mimetype": "text/x-python",
   "name": "python",
   "nbconvert_exporter": "python",
   "pygments_lexer": "ipython3",
   "version": "3.9.7"
  }
 },
 "nbformat": 4,
 "nbformat_minor": 5
}
